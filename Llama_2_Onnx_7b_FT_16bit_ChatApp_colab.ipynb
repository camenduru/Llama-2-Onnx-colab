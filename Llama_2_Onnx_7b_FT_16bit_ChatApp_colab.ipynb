{
  "cells": [
    {
      "cell_type": "markdown",
      "metadata": {
        "id": "view-in-github"
      },
      "source": [
        "[![Open In Colab](https://colab.research.google.com/assets/colab-badge.svg)](https://colab.research.google.com/github/camenduru/Llama-2-Onnx-colab/blob/main/Llama_2_Onnx_7b_FT_16bit_ChatApp_colab.ipynb)"
      ]
    },
    {
      "cell_type": "code",
      "execution_count": null,
      "metadata": {
        "cellView": "form",
        "id": "VCFOzsQSHbjM"
      },
      "outputs": [],
      "source": [
        "%cd /content\n",
        "!git clone -b dev https://github.com/camenduru/Llama-2-Onnx.git\n",
        "!rm -rf /content/Llama-2-Onnx/7B_FT_float16\n",
        "!git clone https://huggingface.co/4bit/7B_FT_float16 /content/Llama-2-Onnx/7B_FT_float16\n",
        "\n",
        "!pip install -q gradio mdtex2html pypinyin tiktoken socksio colorama duckduckgo_search Pygments llama_index langchain markdown2 \n",
        "!pip install -q git+https://github.com/huggingface/peft.git git+https://github.com/huggingface/transformers.git SentencePiece onnxruntime-gpu\n",
        "\n",
        "%cd /content/Llama-2-Onnx\n",
        "!python ChatApp/app.py"
      ]
    }
  ],
  "metadata": {
    "accelerator": "GPU",
    "colab": {
      "provenance": []
    },
    "gpuClass": "standard",
    "kernelspec": {
      "display_name": "Python 3",
      "name": "python3"
    },
    "language_info": {
      "name": "python"
    }
  },
  "nbformat": 4,
  "nbformat_minor": 0
}
